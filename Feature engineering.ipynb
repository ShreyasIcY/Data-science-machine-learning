{
 "cells": [
  {
   "cell_type": "code",
   "execution_count": 1,
   "id": "e8ee4619-8b81-4f60-b166-471eb2166c6b",
   "metadata": {},
   "outputs": [],
   "source": [
    "import pandas as pd\n",
    "from sklearn.compose import ColumnTransformer\n",
    "from sklearn.pipeline import Pipeline\n",
    "from sklearn.impute import SimpleImputer\n",
    "from sklearn.preprocessing import OneHotEncoder, StandardScaler, PolynomialFeatures"
   ]
  },
  {
   "cell_type": "code",
   "execution_count": 3,
   "id": "a9b32957-8b52-4878-9cbd-53e09e6e797a",
   "metadata": {},
   "outputs": [
    {
     "name": "stdout",
     "output_type": "stream",
     "text": [
      "[[-1.5  -1.5   2.25  2.25  2.25  0.    1.  ]\n",
      " [-0.5  -0.5   0.25  0.25  0.25  1.    0.  ]\n",
      " [ 0.5   0.    0.25  0.    0.    0.    1.  ]\n",
      " [ 1.5   1.5   2.25  2.25  2.25  1.    0.  ]\n",
      " [ 0.    0.5   0.    0.    0.25  0.    1.  ]]\n"
     ]
    }
   ],
   "source": [
    "data={\n",
    "    'age': [25, 30, 35, 40, None],\n",
    "    'gender': ['M', 'F', 'M', 'F', 'M'],\n",
    "    'income': [50000, 60000, None, 80000, 70000],\n",
    "    'purchased': [0, 1, 0, 1, 0]\n",
    "}\n",
    "df = pd.DataFrame(data)\n",
    "\n",
    "# Features and target\n",
    "X = df.drop('purchased', axis=1)\n",
    "y = df['purchased']\n",
    "\n",
    "numeric_features = ['age', 'income']\n",
    "numeric_transformer = Pipeline(steps=[\n",
    "    ('imputer', SimpleImputer(strategy='median')),\n",
    "    ('scaler', StandardScaler()),\n",
    "    ('poly', PolynomialFeatures(degree=2, include_bias=False))\n",
    "])\n",
    "\n",
    "categorical_features = ['gender']\n",
    "categorical_transformer = Pipeline(steps=[\n",
    "    ('imputer', SimpleImputer(strategy='constant', fill_value='missing')),\n",
    "    ('onehot', OneHotEncoder())\n",
    "])\n",
    "\n",
    "preprocessor = ColumnTransformer(\n",
    "    transformers=[\n",
    "        ('num', numeric_transformer, numeric_features),\n",
    "        ('cat', categorical_transformer, categorical_features)\n",
    "    ])\n",
    "\n",
    "# Applying the preprocessor\n",
    "X_preprocessed = preprocessor.fit_transform(X)\n",
    "\n",
    "# Show the transformed feature matrix\n",
    "print(X_preprocessed)\n"
   ]
  },
  {
   "cell_type": "code",
   "execution_count": 5,
   "id": "3a4ab110-1f25-4b61-8e1a-a74f1c0e72b9",
   "metadata": {},
   "outputs": [],
   "source": [
    "import pickle\n",
    "file=open(\"preproces.pkl\",\"wb\")\n",
    "pickle.dump(preprocessor,file) \n",
    "file.close()"
   ]
  },
  {
   "cell_type": "code",
   "execution_count": null,
   "id": "f14fab25-6646-4a90-9b5e-391b4c4afaac",
   "metadata": {},
   "outputs": [],
   "source": []
  }
 ],
 "metadata": {
  "kernelspec": {
   "display_name": "Python 3 (ipykernel)",
   "language": "python",
   "name": "python3"
  },
  "language_info": {
   "codemirror_mode": {
    "name": "ipython",
    "version": 3
   },
   "file_extension": ".py",
   "mimetype": "text/x-python",
   "name": "python",
   "nbconvert_exporter": "python",
   "pygments_lexer": "ipython3",
   "version": "3.12.4"
  }
 },
 "nbformat": 4,
 "nbformat_minor": 5
}
